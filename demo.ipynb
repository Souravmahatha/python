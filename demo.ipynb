{
 "cells": [
  {
   "cell_type": "code",
   "execution_count": 1,
   "metadata": {},
   "outputs": [
    {
     "data": {
      "text/plain": [
       "140709601862856"
      ]
     },
     "execution_count": 1,
     "metadata": {},
     "output_type": "execute_result"
    }
   ],
   "source": [
    "x=10\n",
    "x=10\n",
    "id(x)"
   ]
  },
  {
   "cell_type": "code",
   "execution_count": 6,
   "metadata": {},
   "outputs": [
    {
     "data": {
      "text/plain": [
       "140709825805448"
      ]
     },
     "execution_count": 6,
     "metadata": {},
     "output_type": "execute_result"
    }
   ],
   "source": [
    "x=120\n",
    "x=200\n",
    "id(x)"
   ]
  },
  {
   "cell_type": "code",
   "execution_count": 2,
   "metadata": {},
   "outputs": [
    {
     "name": "stdout",
     "output_type": "stream",
     "text": [
      "Easy very is python learning\n"
     ]
    }
   ],
   "source": [
    "s=\"learning python is very Easy\"\n",
    "a=s.split()\n",
    "a.reverse()\n",
    "result=\" \".join(a)\n",
    "print(result)"
   ]
  },
  {
   "cell_type": "code",
   "execution_count": 3,
   "metadata": {},
   "outputs": [
    {
     "name": "stdout",
     "output_type": "stream",
     "text": [
      "ecneicS retupmoC\n"
     ]
    }
   ],
   "source": [
    "txt = \"Computer Science\"[::-1]\n",
    "print(txt)"
   ]
  },
  {
   "cell_type": "code",
   "execution_count": 14,
   "metadata": {},
   "outputs": [
    {
     "name": "stdout",
     "output_type": "stream",
     "text": [
      "SOURAV654321\n"
     ]
    }
   ],
   "source": [
    "s=\"S6O5U4R3A2V1\"\n",
    "letters = \"\"\n",
    "numbers = \"\"\n",
    "for x in s:\n",
    "    if x.isdigit ():\n",
    "        numbers += x\n",
    "    else:\n",
    "        letters += x\n",
    "\n",
    "result = letters + numbers\n",
    "print(result)\n"
   ]
  },
  {
   "cell_type": "code",
   "execution_count": 11,
   "metadata": {},
   "outputs": [
    {
     "name": "stdout",
     "output_type": "stream",
     "text": [
      "aaaabbbccd\n"
     ]
    }
   ],
   "source": [
    "s = \"a4b3c2d1\"\n",
    "result = \"\"\n",
    "\n",
    "i = 0\n",
    "while i < len(s):\n",
    "    if s[i].isalpha():\n",
    "        letter = s[i]\n",
    "        if i + 1 < len(s) and s[i + 1].isdigit():\n",
    "            number = int(s[i + 1])\n",
    "            result += letter * number\n",
    "    i += 1\n",
    "\n",
    "print(result)             "
   ]
  }
 ],
 "metadata": {
  "kernelspec": {
   "display_name": "Python 3",
   "language": "python",
   "name": "python3"
  },
  "language_info": {
   "codemirror_mode": {
    "name": "ipython",
    "version": 3
   },
   "file_extension": ".py",
   "mimetype": "text/x-python",
   "name": "python",
   "nbconvert_exporter": "python",
   "pygments_lexer": "ipython3",
   "version": "3.13.0"
  }
 },
 "nbformat": 4,
 "nbformat_minor": 2
}
